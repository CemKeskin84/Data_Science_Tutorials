{
  "nbformat": 4,
  "nbformat_minor": 0,
  "metadata": {
    "colab": {
      "provenance": [],
      "toc_visible": true,
      "authorship_tag": "ABX9TyM3oDexubxg401FpNzZb3bG",
      "include_colab_link": true
    },
    "kernelspec": {
      "name": "python3",
      "display_name": "Python 3"
    },
    "language_info": {
      "name": "python"
    }
  },
  "cells": [
    {
      "cell_type": "markdown",
      "metadata": {
        "id": "view-in-github",
        "colab_type": "text"
      },
      "source": [
        "<a href=\"https://colab.research.google.com/github/CemKeskin84/Data_Science_Tutorials/blob/main/data_science_nb.ipynb\" target=\"_parent\"><img src=\"https://colab.research.google.com/assets/colab-badge.svg\" alt=\"Open In Colab\"/></a>"
      ]
    },
    {
      "cell_type": "markdown",
      "source": [
        "##Ingest"
      ],
      "metadata": {
        "id": "srdjPb-l3egy"
      }
    },
    {
      "cell_type": "code",
      "source": [],
      "metadata": {
        "id": "nLurrdxD3kfM"
      },
      "execution_count": null,
      "outputs": []
    },
    {
      "cell_type": "markdown",
      "source": [
        "## EDA"
      ],
      "metadata": {
        "id": "cmGRNL-a3k-J"
      }
    },
    {
      "cell_type": "code",
      "source": [],
      "metadata": {
        "id": "8MtZS2r13qyG"
      },
      "execution_count": null,
      "outputs": []
    },
    {
      "cell_type": "markdown",
      "source": [
        "## Modeling"
      ],
      "metadata": {
        "id": "Y3qt3Ej73rc-"
      }
    },
    {
      "cell_type": "code",
      "source": [],
      "metadata": {
        "id": "e-1-y02H3upg"
      },
      "execution_count": null,
      "outputs": []
    },
    {
      "cell_type": "markdown",
      "source": [
        "## Conclusiion"
      ],
      "metadata": {
        "id": "L6Gf8fHZ3u9x"
      }
    },
    {
      "cell_type": "code",
      "source": [],
      "metadata": {
        "id": "aK4dMwDh3xcy"
      },
      "execution_count": null,
      "outputs": []
    }
  ]
}