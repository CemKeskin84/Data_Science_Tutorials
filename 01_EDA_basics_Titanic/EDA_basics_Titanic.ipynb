{
 "cells": [
  {
   "cell_type": "markdown",
   "source": [
    "# STEP 0: Preperation of the Workbench\n",
    "\n",
    "Let's start with importing relevant software and the dataset to the kernel: "
   ],
   "metadata": {}
  },
  {
   "cell_type": "code",
   "execution_count": 344,
   "source": [
    "# Import Dependencies\n",
    "%matplotlib inline\n",
    "\n",
    "# Import useful python packages\n",
    "import os, math, time, random, datetime\n",
    "\n",
    "# Import packages for data manipulation\n",
    "import numpy as np\n",
    "import pandas as pd\n",
    "\n",
    "# Import packages for visualization \n",
    "import matplotlib.pyplot as plt\n",
    "import missingno as msno\n",
    "import seaborn as sns\n",
    "plt.style.use('seaborn-whitegrid')"
   ],
   "outputs": [],
   "metadata": {}
  },
  {
   "cell_type": "markdown",
   "source": [
    "Next step is importing dataset(s) and asssigning to variable(s).\n",
    "\n",
    "In titanic dataset, we have seperated data for the training and test of models:"
   ],
   "metadata": {}
  },
  {
   "cell_type": "code",
   "execution_count": 345,
   "source": [
    "train = pd.read_csv('train.csv')\n",
    "test = pd.read_csv('test.csv')"
   ],
   "outputs": [],
   "metadata": {}
  },
  {
   "cell_type": "markdown",
   "source": [
    "We keep test dataset for model validation in further steps and focus on training data. \n",
    "\n",
    "For the Titanic dataset, a brief description of the columns are also provided:\n",
    "\n",
    "--survival:         Survival (0 = No; 1 = Yes)\n",
    "\n",
    "--pclass:          Passenger Class (1 = 1st; 2 = 2nd; 3 = 3rd)\n",
    "\n",
    "--name:            Name\n",
    "\n",
    "--sex:             Sex\n",
    "\n",
    "--age:            Age\n",
    "\n",
    "--sibsp:           Number of Siblings/Spouses Aboard\n",
    "\n",
    "--parch:           Number of Parents/Children Aboard\n",
    "\n",
    "--ticket:          Ticket Number\n",
    "\n",
    "--fare:           Passenger Fare\n",
    "\n",
    "--cabin:           Cabin\n",
    "\n",
    "--embarked:        Port of Embarkation (C = Cherbourg; Q = Queenstown; S = Southampton)"
   ],
   "metadata": {}
  },
  {
   "cell_type": "markdown",
   "source": [
    "# STEP 1: An Overview of the Dataset"
   ],
   "metadata": {}
  },
  {
   "cell_type": "markdown",
   "source": [
    "A generic way to start any analysis is to have an overview of what we have. It is important to be aware of the dimensions, types and basic statistical properties of the data we will exploit."
   ],
   "metadata": {}
  },
  {
   "cell_type": "code",
   "execution_count": 346,
   "source": [
    "train.shape"
   ],
   "outputs": [
    {
     "output_type": "execute_result",
     "data": {
      "text/plain": [
       "(891, 12)"
      ]
     },
     "metadata": {},
     "execution_count": 346
    }
   ],
   "metadata": {}
  },
  {
   "cell_type": "code",
   "execution_count": 347,
   "source": [
    "train.dtypes"
   ],
   "outputs": [
    {
     "output_type": "execute_result",
     "data": {
      "text/plain": [
       "PassengerId      int64\n",
       "Survived         int64\n",
       "Pclass           int64\n",
       "Name            object\n",
       "Sex             object\n",
       "Age            float64\n",
       "SibSp            int64\n",
       "Parch            int64\n",
       "Ticket          object\n",
       "Fare           float64\n",
       "Cabin           object\n",
       "Embarked        object\n",
       "dtype: object"
      ]
     },
     "metadata": {},
     "execution_count": 347
    }
   ],
   "metadata": {}
  },
  {
   "cell_type": "markdown",
   "source": [
    "We have 891 rows and 12 columns that means there are 891 records for 12 topics. 7 columns are numeric (integer or float) whereas the others are encoded as objects (text, combination of numeric and non-numeric values, etc.). In most cases, the columns in object type requires carefull processing to be used in modeling. In any case, it is helpful to see a bunch of it, especially for the better undestanding of the columns in object type."
   ],
   "metadata": {}
  },
  {
   "cell_type": "code",
   "execution_count": 348,
   "source": [
    "train.head()"
   ],
   "outputs": [
    {
     "output_type": "execute_result",
     "data": {
      "text/html": [
       "<div>\n",
       "<style scoped>\n",
       "    .dataframe tbody tr th:only-of-type {\n",
       "        vertical-align: middle;\n",
       "    }\n",
       "\n",
       "    .dataframe tbody tr th {\n",
       "        vertical-align: top;\n",
       "    }\n",
       "\n",
       "    .dataframe thead th {\n",
       "        text-align: right;\n",
       "    }\n",
       "</style>\n",
       "<table border=\"1\" class=\"dataframe\">\n",
       "  <thead>\n",
       "    <tr style=\"text-align: right;\">\n",
       "      <th></th>\n",
       "      <th>PassengerId</th>\n",
       "      <th>Survived</th>\n",
       "      <th>Pclass</th>\n",
       "      <th>Name</th>\n",
       "      <th>Sex</th>\n",
       "      <th>Age</th>\n",
       "      <th>SibSp</th>\n",
       "      <th>Parch</th>\n",
       "      <th>Ticket</th>\n",
       "      <th>Fare</th>\n",
       "      <th>Cabin</th>\n",
       "      <th>Embarked</th>\n",
       "    </tr>\n",
       "  </thead>\n",
       "  <tbody>\n",
       "    <tr>\n",
       "      <th>0</th>\n",
       "      <td>1</td>\n",
       "      <td>0</td>\n",
       "      <td>3</td>\n",
       "      <td>Braund, Mr. Owen Harris</td>\n",
       "      <td>male</td>\n",
       "      <td>22.0</td>\n",
       "      <td>1</td>\n",
       "      <td>0</td>\n",
       "      <td>A/5 21171</td>\n",
       "      <td>7.2500</td>\n",
       "      <td>NaN</td>\n",
       "      <td>S</td>\n",
       "    </tr>\n",
       "    <tr>\n",
       "      <th>1</th>\n",
       "      <td>2</td>\n",
       "      <td>1</td>\n",
       "      <td>1</td>\n",
       "      <td>Cumings, Mrs. John Bradley (Florence Briggs Th...</td>\n",
       "      <td>female</td>\n",
       "      <td>38.0</td>\n",
       "      <td>1</td>\n",
       "      <td>0</td>\n",
       "      <td>PC 17599</td>\n",
       "      <td>71.2833</td>\n",
       "      <td>C85</td>\n",
       "      <td>C</td>\n",
       "    </tr>\n",
       "    <tr>\n",
       "      <th>2</th>\n",
       "      <td>3</td>\n",
       "      <td>1</td>\n",
       "      <td>3</td>\n",
       "      <td>Heikkinen, Miss. Laina</td>\n",
       "      <td>female</td>\n",
       "      <td>26.0</td>\n",
       "      <td>0</td>\n",
       "      <td>0</td>\n",
       "      <td>STON/O2. 3101282</td>\n",
       "      <td>7.9250</td>\n",
       "      <td>NaN</td>\n",
       "      <td>S</td>\n",
       "    </tr>\n",
       "    <tr>\n",
       "      <th>3</th>\n",
       "      <td>4</td>\n",
       "      <td>1</td>\n",
       "      <td>1</td>\n",
       "      <td>Futrelle, Mrs. Jacques Heath (Lily May Peel)</td>\n",
       "      <td>female</td>\n",
       "      <td>35.0</td>\n",
       "      <td>1</td>\n",
       "      <td>0</td>\n",
       "      <td>113803</td>\n",
       "      <td>53.1000</td>\n",
       "      <td>C123</td>\n",
       "      <td>S</td>\n",
       "    </tr>\n",
       "    <tr>\n",
       "      <th>4</th>\n",
       "      <td>5</td>\n",
       "      <td>0</td>\n",
       "      <td>3</td>\n",
       "      <td>Allen, Mr. William Henry</td>\n",
       "      <td>male</td>\n",
       "      <td>35.0</td>\n",
       "      <td>0</td>\n",
       "      <td>0</td>\n",
       "      <td>373450</td>\n",
       "      <td>8.0500</td>\n",
       "      <td>NaN</td>\n",
       "      <td>S</td>\n",
       "    </tr>\n",
       "  </tbody>\n",
       "</table>\n",
       "</div>"
      ],
      "text/plain": [
       "   PassengerId  Survived  Pclass  \\\n",
       "0            1         0       3   \n",
       "1            2         1       1   \n",
       "2            3         1       3   \n",
       "3            4         1       1   \n",
       "4            5         0       3   \n",
       "\n",
       "                                                Name     Sex   Age  SibSp  \\\n",
       "0                            Braund, Mr. Owen Harris    male  22.0      1   \n",
       "1  Cumings, Mrs. John Bradley (Florence Briggs Th...  female  38.0      1   \n",
       "2                             Heikkinen, Miss. Laina  female  26.0      0   \n",
       "3       Futrelle, Mrs. Jacques Heath (Lily May Peel)  female  35.0      1   \n",
       "4                           Allen, Mr. William Henry    male  35.0      0   \n",
       "\n",
       "   Parch            Ticket     Fare Cabin Embarked  \n",
       "0      0         A/5 21171   7.2500   NaN        S  \n",
       "1      0          PC 17599  71.2833   C85        C  \n",
       "2      0  STON/O2. 3101282   7.9250   NaN        S  \n",
       "3      0            113803  53.1000  C123        S  \n",
       "4      0            373450   8.0500   NaN        S  "
      ]
     },
     "metadata": {},
     "execution_count": 348
    }
   ],
   "metadata": {}
  },
  {
   "cell_type": "code",
   "execution_count": 349,
   "source": [
    "train.info()"
   ],
   "outputs": [
    {
     "output_type": "stream",
     "name": "stdout",
     "text": [
      "<class 'pandas.core.frame.DataFrame'>\n",
      "RangeIndex: 891 entries, 0 to 890\n",
      "Data columns (total 12 columns):\n",
      " #   Column       Non-Null Count  Dtype  \n",
      "---  ------       --------------  -----  \n",
      " 0   PassengerId  891 non-null    int64  \n",
      " 1   Survived     891 non-null    int64  \n",
      " 2   Pclass       891 non-null    int64  \n",
      " 3   Name         891 non-null    object \n",
      " 4   Sex          891 non-null    object \n",
      " 5   Age          714 non-null    float64\n",
      " 6   SibSp        891 non-null    int64  \n",
      " 7   Parch        891 non-null    int64  \n",
      " 8   Ticket       891 non-null    object \n",
      " 9   Fare         891 non-null    float64\n",
      " 10  Cabin        204 non-null    object \n",
      " 11  Embarked     889 non-null    object \n",
      "dtypes: float64(2), int64(5), object(5)\n",
      "memory usage: 83.7+ KB\n"
     ]
    }
   ],
   "metadata": {}
  },
  {
   "cell_type": "markdown",
   "source": [
    "Having the fundamentals of the dataset, it is time to get a statistical perspective for the columns in numeric datatype:"
   ],
   "metadata": {}
  },
  {
   "cell_type": "code",
   "execution_count": 350,
   "source": [
    "train.describe()"
   ],
   "outputs": [
    {
     "output_type": "execute_result",
     "data": {
      "text/html": [
       "<div>\n",
       "<style scoped>\n",
       "    .dataframe tbody tr th:only-of-type {\n",
       "        vertical-align: middle;\n",
       "    }\n",
       "\n",
       "    .dataframe tbody tr th {\n",
       "        vertical-align: top;\n",
       "    }\n",
       "\n",
       "    .dataframe thead th {\n",
       "        text-align: right;\n",
       "    }\n",
       "</style>\n",
       "<table border=\"1\" class=\"dataframe\">\n",
       "  <thead>\n",
       "    <tr style=\"text-align: right;\">\n",
       "      <th></th>\n",
       "      <th>PassengerId</th>\n",
       "      <th>Survived</th>\n",
       "      <th>Pclass</th>\n",
       "      <th>Age</th>\n",
       "      <th>SibSp</th>\n",
       "      <th>Parch</th>\n",
       "      <th>Fare</th>\n",
       "    </tr>\n",
       "  </thead>\n",
       "  <tbody>\n",
       "    <tr>\n",
       "      <th>count</th>\n",
       "      <td>891.000000</td>\n",
       "      <td>891.000000</td>\n",
       "      <td>891.000000</td>\n",
       "      <td>714.000000</td>\n",
       "      <td>891.000000</td>\n",
       "      <td>891.000000</td>\n",
       "      <td>891.000000</td>\n",
       "    </tr>\n",
       "    <tr>\n",
       "      <th>mean</th>\n",
       "      <td>446.000000</td>\n",
       "      <td>0.383838</td>\n",
       "      <td>2.308642</td>\n",
       "      <td>29.699118</td>\n",
       "      <td>0.523008</td>\n",
       "      <td>0.381594</td>\n",
       "      <td>32.204208</td>\n",
       "    </tr>\n",
       "    <tr>\n",
       "      <th>std</th>\n",
       "      <td>257.353842</td>\n",
       "      <td>0.486592</td>\n",
       "      <td>0.836071</td>\n",
       "      <td>14.526497</td>\n",
       "      <td>1.102743</td>\n",
       "      <td>0.806057</td>\n",
       "      <td>49.693429</td>\n",
       "    </tr>\n",
       "    <tr>\n",
       "      <th>min</th>\n",
       "      <td>1.000000</td>\n",
       "      <td>0.000000</td>\n",
       "      <td>1.000000</td>\n",
       "      <td>0.420000</td>\n",
       "      <td>0.000000</td>\n",
       "      <td>0.000000</td>\n",
       "      <td>0.000000</td>\n",
       "    </tr>\n",
       "    <tr>\n",
       "      <th>25%</th>\n",
       "      <td>223.500000</td>\n",
       "      <td>0.000000</td>\n",
       "      <td>2.000000</td>\n",
       "      <td>20.125000</td>\n",
       "      <td>0.000000</td>\n",
       "      <td>0.000000</td>\n",
       "      <td>7.910400</td>\n",
       "    </tr>\n",
       "    <tr>\n",
       "      <th>50%</th>\n",
       "      <td>446.000000</td>\n",
       "      <td>0.000000</td>\n",
       "      <td>3.000000</td>\n",
       "      <td>28.000000</td>\n",
       "      <td>0.000000</td>\n",
       "      <td>0.000000</td>\n",
       "      <td>14.454200</td>\n",
       "    </tr>\n",
       "    <tr>\n",
       "      <th>75%</th>\n",
       "      <td>668.500000</td>\n",
       "      <td>1.000000</td>\n",
       "      <td>3.000000</td>\n",
       "      <td>38.000000</td>\n",
       "      <td>1.000000</td>\n",
       "      <td>0.000000</td>\n",
       "      <td>31.000000</td>\n",
       "    </tr>\n",
       "    <tr>\n",
       "      <th>max</th>\n",
       "      <td>891.000000</td>\n",
       "      <td>1.000000</td>\n",
       "      <td>3.000000</td>\n",
       "      <td>80.000000</td>\n",
       "      <td>8.000000</td>\n",
       "      <td>6.000000</td>\n",
       "      <td>512.329200</td>\n",
       "    </tr>\n",
       "  </tbody>\n",
       "</table>\n",
       "</div>"
      ],
      "text/plain": [
       "       PassengerId    Survived      Pclass         Age       SibSp  \\\n",
       "count   891.000000  891.000000  891.000000  714.000000  891.000000   \n",
       "mean    446.000000    0.383838    2.308642   29.699118    0.523008   \n",
       "std     257.353842    0.486592    0.836071   14.526497    1.102743   \n",
       "min       1.000000    0.000000    1.000000    0.420000    0.000000   \n",
       "25%     223.500000    0.000000    2.000000   20.125000    0.000000   \n",
       "50%     446.000000    0.000000    3.000000   28.000000    0.000000   \n",
       "75%     668.500000    1.000000    3.000000   38.000000    1.000000   \n",
       "max     891.000000    1.000000    3.000000   80.000000    8.000000   \n",
       "\n",
       "            Parch        Fare  \n",
       "count  891.000000  891.000000  \n",
       "mean     0.381594   32.204208  \n",
       "std      0.806057   49.693429  \n",
       "min      0.000000    0.000000  \n",
       "25%      0.000000    7.910400  \n",
       "50%      0.000000   14.454200  \n",
       "75%      0.000000   31.000000  \n",
       "max      6.000000  512.329200  "
      ]
     },
     "metadata": {},
     "execution_count": 350
    }
   ],
   "metadata": {}
  },
  {
   "cell_type": "markdown",
   "source": [
    "This table helps us for some quick checks:\n",
    "\n",
    "--The colums with missing values (check the count row): Age\n",
    "\n",
    "--The columns with outliers (compare the min and max values with the mean): Fare(?)\n",
    "\n",
    "All columns will be carefully investigated one-by-one later but it would be informative to obsorve at the very begining. To have a similar insight for the rest of the dataset (columns with non-numeric or mixed datatypes), we have to select the relevant part of the dataset (eliminate numeric columns)"
   ],
   "metadata": {}
  },
  {
   "cell_type": "code",
   "execution_count": 351,
   "source": [
    "objects = train.dtypes[train.dtypes == \"object\"].index\n",
    "train[objects].describe()"
   ],
   "outputs": [
    {
     "output_type": "execute_result",
     "data": {
      "text/html": [
       "<div>\n",
       "<style scoped>\n",
       "    .dataframe tbody tr th:only-of-type {\n",
       "        vertical-align: middle;\n",
       "    }\n",
       "\n",
       "    .dataframe tbody tr th {\n",
       "        vertical-align: top;\n",
       "    }\n",
       "\n",
       "    .dataframe thead th {\n",
       "        text-align: right;\n",
       "    }\n",
       "</style>\n",
       "<table border=\"1\" class=\"dataframe\">\n",
       "  <thead>\n",
       "    <tr style=\"text-align: right;\">\n",
       "      <th></th>\n",
       "      <th>Name</th>\n",
       "      <th>Sex</th>\n",
       "      <th>Ticket</th>\n",
       "      <th>Cabin</th>\n",
       "      <th>Embarked</th>\n",
       "    </tr>\n",
       "  </thead>\n",
       "  <tbody>\n",
       "    <tr>\n",
       "      <th>count</th>\n",
       "      <td>891</td>\n",
       "      <td>891</td>\n",
       "      <td>891</td>\n",
       "      <td>204</td>\n",
       "      <td>889</td>\n",
       "    </tr>\n",
       "    <tr>\n",
       "      <th>unique</th>\n",
       "      <td>891</td>\n",
       "      <td>2</td>\n",
       "      <td>681</td>\n",
       "      <td>147</td>\n",
       "      <td>3</td>\n",
       "    </tr>\n",
       "    <tr>\n",
       "      <th>top</th>\n",
       "      <td>Carter, Mr. William Ernest</td>\n",
       "      <td>male</td>\n",
       "      <td>347082</td>\n",
       "      <td>C23 C25 C27</td>\n",
       "      <td>S</td>\n",
       "    </tr>\n",
       "    <tr>\n",
       "      <th>freq</th>\n",
       "      <td>1</td>\n",
       "      <td>577</td>\n",
       "      <td>7</td>\n",
       "      <td>4</td>\n",
       "      <td>644</td>\n",
       "    </tr>\n",
       "  </tbody>\n",
       "</table>\n",
       "</div>"
      ],
      "text/plain": [
       "                              Name   Sex  Ticket        Cabin Embarked\n",
       "count                          891   891     891          204      889\n",
       "unique                         891     2     681          147        3\n",
       "top     Carter, Mr. William Ernest  male  347082  C23 C25 C27        S\n",
       "freq                             1   577       7            4      644"
      ]
     },
     "metadata": {},
     "execution_count": 351
    }
   ],
   "metadata": {}
  },
  {
   "cell_type": "markdown",
   "source": [
    "-- The count info highlights the columns with missing data: the \"Cabin\" column is missing data for more than 75% of the recordings.\n",
    "\n",
    "-- The uniqueness info is valuable to differentiate categorical data: for the \"Sex\" and \"Embarked\" columns, there are just few options that makes categorization very convenient.\n",
    "\n",
    "--The \"freq\" row shows the appearance of most frequent category.\n",
    "\n"
   ],
   "metadata": {}
  },
  {
   "cell_type": "markdown",
   "source": [
    "# STEP 2: Detailed Assessment of Columns\n",
    "\n",
    "An integral part of any data analysis or modeling is to have a reliable understanding of the columns (candidate parameters of analysis and modeling) with a focus on: \n",
    "\n",
    "-- Missing data\n",
    "\n",
    "-- Outliers and strange values\n",
    "\n",
    "-- The frequency distribution of the data\n",
    "\n",
    "This can save enormous amount of time in further processes by preventing selection of discordant methods or tools for the proposed analysis. Simple visualisations are helpful at this stage to get an intuitive understanding of data quality. \n",
    "\n",
    "\n",
    "The \"count\" row of the describe() method gives us a general idea about mising values: the \"Age\" column has 177 (891-714) and the \"Cabin\" column has 687(!) (891-204) mising value out of 891. The \"Embarked\" column has just 2 missing values (see the charts above). For a more comprehensive understanding of the missing values, it is useful to observe their distribution and the python package called Missingo is a great tool for this. Especially if one intended to delete the rows with with missing values in a specific column, it is helpful to \"obsorve\" (in the matrix form ) what amout of data will be lost in other columns (are they missing as well or not?). Moreover, if you wish to \"quantify\" this interaction (nullity correlation), the heat map option presents it. (Note that it is possible to get similar visualization with Seaborn's heatmap function)"
   ],
   "metadata": {}
  },
  {
   "cell_type": "code",
   "execution_count": 352,
   "source": [
    "msno.matrix(train, figsize = (10,5))\n",
    "msno.heatmap(train,figsize = (6,2))\n",
    "\n",
    "# sns.heatmap(train.isnull(),yticklabels=False,cbar=False)"
   ],
   "outputs": [
    {
     "output_type": "execute_result",
     "data": {
      "text/plain": [
       "<AxesSubplot:>"
      ]
     },
     "metadata": {},
     "execution_count": 352
    },
    {
     "output_type": "display_data",
     "data": {
      "image/png": "[encoded data removed]",
      "text/plain": [
       "<Figure size 720x360 with 2 Axes>"
      ]
     },
     "metadata": {}
    },
    {
     "output_type": "display_data",
     "data": {
      "image/png": "[encoded data removed]",
      "text/plain": [
       "<Figure size 432x144 with 2 Axes>"
      ]
     },
     "metadata": {}
    }
   ],
   "metadata": {}
  },
  {
   "cell_type": "markdown",
   "source": [
    "Having a general overview of missing values in the dataset, let's start investigating columns with the \"Age\" column. It contains numbers in float type and distributed as below:"
   ],
   "metadata": {}
  },
  {
   "cell_type": "code",
   "execution_count": 353,
   "source": [
    "sns.displot(train['Age'], bins=15, kde=False, height=3, aspect=3)\n",
    "plt.show()"
   ],
   "outputs": [
    {
     "output_type": "display_data",
     "data": {
      "image/png": "[encoded data removed]",
      "text/plain": [
       "<Figure size 648x216 with 1 Axes>"
      ]
     },
     "metadata": {}
    }
   ],
   "metadata": {}
  },
  {
   "cell_type": "markdown",
   "source": [
    "Beside missing values, the \"Age\" column seems as expected: there are no strange values (a negative value,i.e.) and the frequency distribution seems reasonable.\n",
    "\n",
    "The \"Cabin\" column has lots of missing values. The existing ones are in text format and generally consist of a capital letter (shows ship region) followed by numbers (shows room number):"
   ],
   "metadata": {}
  },
  {
   "cell_type": "code",
   "execution_count": 354,
   "source": [
    "cabin_str = train[\"Cabin\"].astype(str).unique() # Convert data to str and eliminate repeating values\n",
    "print(cabin_str)"
   ],
   "outputs": [
    {
     "output_type": "stream",
     "name": "stdout",
     "text": [
      "['nan' 'C85' 'C123' 'E46' 'G6' 'C103' 'D56' 'A6' 'C23 C25 C27' 'B78' 'D33'\n",
      " 'B30' 'C52' 'B28' 'C83' 'F33' 'F G73' 'E31' 'A5' 'D10 D12' 'D26' 'C110'\n",
      " 'B58 B60' 'E101' 'F E69' 'D47' 'B86' 'F2' 'C2' 'E33' 'B19' 'A7' 'C49'\n",
      " 'F4' 'A32' 'B4' 'B80' 'A31' 'D36' 'D15' 'C93' 'C78' 'D35' 'C87' 'B77'\n",
      " 'E67' 'B94' 'C125' 'C99' 'C118' 'D7' 'A19' 'B49' 'D' 'C22 C26' 'C106'\n",
      " 'C65' 'E36' 'C54' 'B57 B59 B63 B66' 'C7' 'E34' 'C32' 'B18' 'C124' 'C91'\n",
      " 'E40' 'T' 'C128' 'D37' 'B35' 'E50' 'C82' 'B96 B98' 'E10' 'E44' 'A34'\n",
      " 'C104' 'C111' 'C92' 'E38' 'D21' 'E12' 'E63' 'A14' 'B37' 'C30' 'D20' 'B79'\n",
      " 'E25' 'D46' 'B73' 'C95' 'B38' 'B39' 'B22' 'C86' 'C70' 'A16' 'C101' 'C68'\n",
      " 'A10' 'E68' 'B41' 'A20' 'D19' 'D50' 'D9' 'A23' 'B50' 'A26' 'D48' 'E58'\n",
      " 'C126' 'B71' 'B51 B53 B55' 'D49' 'B5' 'B20' 'F G63' 'C62 C64' 'E24' 'C90'\n",
      " 'C45' 'E8' 'B101' 'D45' 'C46' 'D30' 'E121' 'D11' 'E77' 'F38' 'B3' 'D6'\n",
      " 'B82 B84' 'D17' 'A36' 'B102' 'B69' 'E49' 'C47' 'D28' 'E17' 'A24' 'C50'\n",
      " 'B42' 'C148']\n"
     ]
    }
   ],
   "metadata": {}
  },
  {
   "cell_type": "markdown",
   "source": [
    "As can be seen above, some of the existing values are not in defined format (strange values). For instance, there are some just with letter (D, T, i.e.) or some with multi-records (like \"D10 D12\"). The high number of missing values and the strange ones among the existing values prevent reliable investigation about its impact. Hence, this column can be dropped.\n",
    "\n",
    "The \"Pclass\" column has no missing values and involves only 3 different numeric values (that make it a proper candidate for categorical data):"
   ],
   "metadata": {}
  },
  {
   "cell_type": "code",
   "execution_count": 355,
   "source": [
    "sns.displot(train['Pclass'], kde=False, height=2, aspect=2)\n",
    "plt.show()"
   ],
   "outputs": [
    {
     "output_type": "display_data",
     "data": {
      "image/png": "[encoded data removed]",
      "text/plain": [
       "<Figure size 288x144 with 1 Axes>"
      ]
     },
     "metadata": {}
    }
   ],
   "metadata": {}
  },
  {
   "cell_type": "markdown",
   "source": [
    "The \"Name\" column has no missing value and involves unique texts each record: "
   ],
   "metadata": {}
  },
  {
   "cell_type": "code",
   "execution_count": 356,
   "source": [
    "train[\"Name\"].head()"
   ],
   "outputs": [
    {
     "output_type": "execute_result",
     "data": {
      "text/plain": [
       "0                              Braund, Mr. Owen Harris\n",
       "1    Cumings, Mrs. John Bradley (Florence Briggs Th...\n",
       "2                               Heikkinen, Miss. Laina\n",
       "3         Futrelle, Mrs. Jacques Heath (Lily May Peel)\n",
       "4                             Allen, Mr. William Henry\n",
       "Name: Name, dtype: object"
      ]
     },
     "metadata": {},
     "execution_count": 356
    }
   ],
   "metadata": {}
  },
  {
   "cell_type": "markdown",
   "source": [
    "It seems reasonable to claim that the name of a person (891 unique records) can't influence or determine the survival of a passenger. If one compels to be so, it can be claimed that passengers with common surnames were together while ship was sinking and their survival would be similar. However, we already have \"parch\" and \"sibsp\" colums that would infer in this manner. Keeping such a variable seems not to be helpful to predict such an outcome. Hence, no need to check for strange values (typos) or high number of repeating names.\n",
    "\n",
    "The \"Sex\" column has no missing values and grouped into two unique text values as \"male\" and \"female\" (that make it a proper candidate for categorical data). "
   ],
   "metadata": {}
  },
  {
   "cell_type": "code",
   "execution_count": 357,
   "source": [
    "sns.displot(train['Sex'], kde=False, height=2, aspect=3)\n",
    "plt.show()"
   ],
   "outputs": [
    {
     "output_type": "display_data",
     "data": {
      "image/png": "[encoded data removed]",
      "text/plain": [
       "<Figure size 432x144 with 1 Axes>"
      ]
     },
     "metadata": {}
    }
   ],
   "metadata": {}
  },
  {
   "cell_type": "markdown",
   "source": [
    "\"SibSp\" and \"Parch\" columns are two related columns without any missing values. They don't have strange values and the distributions seem reasonable:"
   ],
   "metadata": {}
  },
  {
   "cell_type": "code",
   "execution_count": 358,
   "source": [
    "fig, ax = plt.subplots(1, 2, figsize = (10, 3)) \n",
    "sns.countplot(x='SibSp', data=train, ax=ax[0])\n",
    "sns.countplot(x='Parch',data=train, ax=ax[1])\n",
    "plt.show()"
   ],
   "outputs": [
    {
     "output_type": "display_data",
     "data": {
      "image/png": "[encoded data removed]",
      "text/plain": [
       "<Figure size 720x216 with 2 Axes>"
      ]
     },
     "metadata": {}
    }
   ],
   "metadata": {}
  },
  {
   "cell_type": "markdown",
   "source": [
    "The ticket column has no missing values and contains 681 unique values: "
   ],
   "metadata": {}
  },
  {
   "cell_type": "code",
   "execution_count": 359,
   "source": [
    "train['Ticket'].tail(10)"
   ],
   "outputs": [
    {
     "output_type": "execute_result",
     "data": {
      "text/plain": [
       "881              349257\n",
       "882                7552\n",
       "883    C.A./SOTON 34068\n",
       "884     SOTON/OQ 392076\n",
       "885              382652\n",
       "886              211536\n",
       "887              112053\n",
       "888          W./C. 6607\n",
       "889              111369\n",
       "890              370376\n",
       "Name: Ticket, dtype: object"
      ]
     },
     "metadata": {},
     "execution_count": 359
    }
   ],
   "metadata": {}
  },
  {
   "cell_type": "markdown",
   "source": [
    "Having the non-unique ticket numbers for 210 passenges is a suspicious case. On the other hand, the data is not well structured: most of the inputs involve only numbers but some has a text as well. Hence, it is not reasonable to try to figure out a logical pattern for relating the ticket number and the survival state. It seems convenient to drop this column.\n",
    "\n",
    "THe \"Fare\" column involves floating numbers and there are no missing values but their distribution graph indicates some suspicious values:"
   ],
   "metadata": {}
  },
  {
   "cell_type": "code",
   "execution_count": 360,
   "source": [
    "sns.displot(train['Fare'], bins=25, kde=False, height=2, aspect=3)\n",
    "plt.show()"
   ],
   "outputs": [
    {
     "output_type": "display_data",
     "data": {
      "image/png": "[encoded data removed]",
      "text/plain": [
       "<Figure size 432x144 with 1 Axes>"
      ]
     },
     "metadata": {}
    }
   ],
   "metadata": {}
  },
  {
   "cell_type": "markdown",
   "source": [
    "Despite most of the \"Fare\" data is less than 100$, there are prices up to ~500$. A better way of visualization to differentiate these suspicious values would be box, strip or swarm plot:"
   ],
   "metadata": {}
  },
  {
   "cell_type": "code",
   "execution_count": 361,
   "source": [
    "sns.stripplot(x='Fare', data=train)\n",
    "plt.show()"
   ],
   "outputs": [
    {
     "output_type": "display_data",
     "data": {
      "image/png": "[encoded data removed]",
      "text/plain": [
       "<Figure size 432x288 with 1 Axes>"
      ]
     },
     "metadata": {}
    }
   ],
   "metadata": {}
  },
  {
   "cell_type": "markdown",
   "source": [
    "There are 3 passenger who paid some extortionate price for tickets. Based on the preferences, those who paid more than 100, 200 or 300 can be considered as outliers. \n",
    "\n",
    "The \"Embarked\" column has only two missing values and the rest of the data is grouped under 3 \"categories\":"
   ],
   "metadata": {}
  },
  {
   "cell_type": "code",
   "execution_count": 362,
   "source": [
    "sns.countplot(y=\"Embarked\", data=train)\n",
    "plt.show()"
   ],
   "outputs": [
    {
     "output_type": "display_data",
     "data": {
      "image/png": "[encoded data removed]",
      "text/plain": [
       "<Figure size 432x288 with 1 Axes>"
      ]
     },
     "metadata": {}
    }
   ],
   "metadata": {}
  },
  {
   "cell_type": "markdown",
   "source": [
    "Since the Titanic dataset is mostly used for developing models to predict if a passenger is survived or not, the most important column is the one called \"Survived\". It has no missing values and data is grouped into two numeric values (0 and 1):"
   ],
   "metadata": {}
  },
  {
   "cell_type": "code",
   "execution_count": 363,
   "source": [
    "sns.displot(train['Survived'], kde=False, height=2, aspect=2)\n",
    "plt.show()"
   ],
   "outputs": [
    {
     "output_type": "display_data",
     "data": {
      "image/png": "[encoded data removed]",
      "text/plain": [
       "<Figure size 288x144 with 1 Axes>"
      ]
     },
     "metadata": {}
    }
   ],
   "metadata": {}
  },
  {
   "cell_type": "markdown",
   "source": [
    "At this stage, it is also practical to visualize interdependence among parameters with a correlation matrix. Below is the one with standard correlation coefficient (Pearson):"
   ],
   "metadata": {}
  },
  {
   "cell_type": "code",
   "execution_count": 364,
   "source": [
    "sns.heatmap(train.corr())\n",
    "plt.show()"
   ],
   "outputs": [
    {
     "output_type": "display_data",
     "data": {
      "image/png": "[encoded data removed]",
      "text/plain": [
       "<Figure size 432x288 with 2 Axes>"
      ]
     },
     "metadata": {}
    }
   ],
   "metadata": {}
  },
  {
   "cell_type": "markdown",
   "source": [
    "# STEP 3: Data Manupilation\n",
    "\n",
    "Getting a general overview of the dataset and the columns, the next step is the manupilation of the columns that needs it to be more useful: \n",
    "\n",
    "-- some of them can be dropped \n",
    "\n",
    "-- some can be converted to a new datatype \n",
    "\n",
    "-- some can be processesed \n",
    "\n",
    "to be used more effectively. Hence, we need to derive questions in this manner:\n",
    "\n",
    "1) Do we need all variables (columns) in the dataset? Can we eliminate some?\n",
    "2) Do we need to transform some relevant variables for a better analysis or modeling?\n",
    "3) Should we derive new variables using existing ones?"
   ],
   "metadata": {}
  },
  {
   "cell_type": "markdown",
   "source": [
    "As we mentioned above, the name column is not expected to have influence of survival. Similarly, the \"Passenger\" is a sort of identifier with ascending unique numeric values and it is impossible to relate it with the survival. So, we can drop these two columns without doubt.\n",
    "\n",
    "We considered to drop the \"Cabin\" column as well due to the high number of missing values and some strange values. Nevertheless, still there is room for exploiting some information: the inputs of \"Cabin\" column contains a capital letter as an identifier for regions of the ship. Since the region of the ship would be important for survival, it seems reasonable to keep this categorical data as a new column. After this, we can drop the \"Cabin\" column."
   ],
   "metadata": {}
  },
  {
   "cell_type": "code",
   "execution_count": 365,
   "source": [
    "cabin_str = train[\"Cabin\"].astype(str) # Convert data to str\n",
    "\n",
    "first_letter = np.array([cabin[0] for cabin in cabin_str]) # Take first letter\n",
    "\n",
    "train[\"Cabin_cat\"] = pd.Categorical(first_letter)\n",
    "\n",
    "train = train.drop(columns=['Name', 'Ticket', 'PassengerId','Cabin'])"
   ],
   "outputs": [],
   "metadata": {}
  },
  {
   "cell_type": "markdown",
   "source": [
    "A common practice for the datatype transformation is changing some variables (ones with few number of unique values) to the categorical variables to save memory (in large datasets) as well as to use conveniently in some plot types. More importantly, it is possible to assign the \"order\" while converting which is useful for sort, min() and max() functions. \n",
    "\n",
    "The list of unique values for each column can be viewed by:"
   ],
   "metadata": {}
  },
  {
   "cell_type": "code",
   "execution_count": 366,
   "source": [
    "train.nunique()"
   ],
   "outputs": [
    {
     "output_type": "execute_result",
     "data": {
      "text/plain": [
       "Survived       2\n",
       "Pclass         3\n",
       "Sex            2\n",
       "Age           88\n",
       "SibSp          7\n",
       "Parch          7\n",
       "Fare         248\n",
       "Embarked       3\n",
       "Cabin_cat      9\n",
       "dtype: int64"
      ]
     },
     "metadata": {},
     "execution_count": 366
    }
   ],
   "metadata": {}
  },
  {
   "cell_type": "markdown",
   "source": [
    "The \"Survived\" column composed of 0 and 1 and can changed to \"survived\" and \"not_survived\" categories. Nevertheless, if you develop a model to submit the results to Kaggle, you have to keep the 0-1 format. Hence, let's keep it.\n",
    "\n",
    "-- The \"Pclass\" column also have just three unique values that seems appropriate to be cateogorized as \"Class1\", \"Class2\" and \"Class3\". \n",
    "\n",
    "-- The \"Sex\" column has just two that can kept with same category names\n",
    "\n",
    "-- The \"Embarked\" column has three unique values that can kept with same category names\n",
    "\n",
    "\n",
    "We don't need to keep the original columns after transformation, thus, do in inplace:"
   ],
   "metadata": {}
  },
  {
   "cell_type": "code",
   "execution_count": 367,
   "source": [
    "train[\"Pclass\"] = pd.Categorical(train[\"Pclass\"],ordered=True).rename_categories([\"Class1\",\"Class2\",\"Class3\"])\n",
    "train[\"Sex\"] = pd.Categorical(train[\"Sex\"])\n",
    "train[\"Embarked\"] = pd.Categorical(train[\"Embarked\"])\n",
    "\n",
    "#check the type:\n",
    "print(train[\"Pclass\"].dtype , train[\"Sex\"].dtype)"
   ],
   "outputs": [
    {
     "output_type": "stream",
     "name": "stdout",
     "text": [
      "category category\n"
     ]
    }
   ],
   "metadata": {}
  },
  {
   "cell_type": "markdown",
   "source": [
    "An important question while dealing with datasets is how to handle the missing values. A common way to replace the missing and strange numeric values is to substitute them. Based on the context, it is possible to use zeros, mean, median, forward fill, backward fill or more advanced methods (like KNN imputer) to replace missing ones. As you remember, there are 177 (891-714) missing values in the age column. Let's replace them with the mean: "
   ],
   "metadata": {}
  },
  {
   "cell_type": "code",
   "execution_count": 368,
   "source": [
    "train[\"Age\"] = np.where(train[\"Age\"].isnull(),      #check the row if it is null or not\n",
    "                       round(train[\"Age\"].mean()),  #if so, replace with the mean\n",
    "                       train[\"Age\"])                #if not, keep the existing value"
   ],
   "outputs": [],
   "metadata": {}
  },
  {
   "cell_type": "markdown",
   "source": [
    "Let's see the final version of the dataset and the datatypes before analysis:"
   ],
   "metadata": {}
  },
  {
   "cell_type": "code",
   "execution_count": 369,
   "source": [
    "train.head(10)"
   ],
   "outputs": [
    {
     "output_type": "execute_result",
     "data": {
      "text/html": [
       "<div>\n",
       "<style scoped>\n",
       "    .dataframe tbody tr th:only-of-type {\n",
       "        vertical-align: middle;\n",
       "    }\n",
       "\n",
       "    .dataframe tbody tr th {\n",
       "        vertical-align: top;\n",
       "    }\n",
       "\n",
       "    .dataframe thead th {\n",
       "        text-align: right;\n",
       "    }\n",
       "</style>\n",
       "<table border=\"1\" class=\"dataframe\">\n",
       "  <thead>\n",
       "    <tr style=\"text-align: right;\">\n",
       "      <th></th>\n",
       "      <th>Survived</th>\n",
       "      <th>Pclass</th>\n",
       "      <th>Sex</th>\n",
       "      <th>Age</th>\n",
       "      <th>SibSp</th>\n",
       "      <th>Parch</th>\n",
       "      <th>Fare</th>\n",
       "      <th>Embarked</th>\n",
       "      <th>Cabin_cat</th>\n",
       "    </tr>\n",
       "  </thead>\n",
       "  <tbody>\n",
       "    <tr>\n",
       "      <th>0</th>\n",
       "      <td>0</td>\n",
       "      <td>Class3</td>\n",
       "      <td>male</td>\n",
       "      <td>22.0</td>\n",
       "      <td>1</td>\n",
       "      <td>0</td>\n",
       "      <td>7.2500</td>\n",
       "      <td>S</td>\n",
       "      <td>n</td>\n",
       "    </tr>\n",
       "    <tr>\n",
       "      <th>1</th>\n",
       "      <td>1</td>\n",
       "      <td>Class1</td>\n",
       "      <td>female</td>\n",
       "      <td>38.0</td>\n",
       "      <td>1</td>\n",
       "      <td>0</td>\n",
       "      <td>71.2833</td>\n",
       "      <td>C</td>\n",
       "      <td>C</td>\n",
       "    </tr>\n",
       "    <tr>\n",
       "      <th>2</th>\n",
       "      <td>1</td>\n",
       "      <td>Class3</td>\n",
       "      <td>female</td>\n",
       "      <td>26.0</td>\n",
       "      <td>0</td>\n",
       "      <td>0</td>\n",
       "      <td>7.9250</td>\n",
       "      <td>S</td>\n",
       "      <td>n</td>\n",
       "    </tr>\n",
       "    <tr>\n",
       "      <th>3</th>\n",
       "      <td>1</td>\n",
       "      <td>Class1</td>\n",
       "      <td>female</td>\n",
       "      <td>35.0</td>\n",
       "      <td>1</td>\n",
       "      <td>0</td>\n",
       "      <td>53.1000</td>\n",
       "      <td>S</td>\n",
       "      <td>C</td>\n",
       "    </tr>\n",
       "    <tr>\n",
       "      <th>4</th>\n",
       "      <td>0</td>\n",
       "      <td>Class3</td>\n",
       "      <td>male</td>\n",
       "      <td>35.0</td>\n",
       "      <td>0</td>\n",
       "      <td>0</td>\n",
       "      <td>8.0500</td>\n",
       "      <td>S</td>\n",
       "      <td>n</td>\n",
       "    </tr>\n",
       "    <tr>\n",
       "      <th>5</th>\n",
       "      <td>0</td>\n",
       "      <td>Class3</td>\n",
       "      <td>male</td>\n",
       "      <td>30.0</td>\n",
       "      <td>0</td>\n",
       "      <td>0</td>\n",
       "      <td>8.4583</td>\n",
       "      <td>Q</td>\n",
       "      <td>n</td>\n",
       "    </tr>\n",
       "    <tr>\n",
       "      <th>6</th>\n",
       "      <td>0</td>\n",
       "      <td>Class1</td>\n",
       "      <td>male</td>\n",
       "      <td>54.0</td>\n",
       "      <td>0</td>\n",
       "      <td>0</td>\n",
       "      <td>51.8625</td>\n",
       "      <td>S</td>\n",
       "      <td>E</td>\n",
       "    </tr>\n",
       "    <tr>\n",
       "      <th>7</th>\n",
       "      <td>0</td>\n",
       "      <td>Class3</td>\n",
       "      <td>male</td>\n",
       "      <td>2.0</td>\n",
       "      <td>3</td>\n",
       "      <td>1</td>\n",
       "      <td>21.0750</td>\n",
       "      <td>S</td>\n",
       "      <td>n</td>\n",
       "    </tr>\n",
       "    <tr>\n",
       "      <th>8</th>\n",
       "      <td>1</td>\n",
       "      <td>Class3</td>\n",
       "      <td>female</td>\n",
       "      <td>27.0</td>\n",
       "      <td>0</td>\n",
       "      <td>2</td>\n",
       "      <td>11.1333</td>\n",
       "      <td>S</td>\n",
       "      <td>n</td>\n",
       "    </tr>\n",
       "    <tr>\n",
       "      <th>9</th>\n",
       "      <td>1</td>\n",
       "      <td>Class2</td>\n",
       "      <td>female</td>\n",
       "      <td>14.0</td>\n",
       "      <td>1</td>\n",
       "      <td>0</td>\n",
       "      <td>30.0708</td>\n",
       "      <td>C</td>\n",
       "      <td>n</td>\n",
       "    </tr>\n",
       "  </tbody>\n",
       "</table>\n",
       "</div>"
      ],
      "text/plain": [
       "   Survived  Pclass     Sex   Age  SibSp  Parch     Fare Embarked Cabin_cat\n",
       "0         0  Class3    male  22.0      1      0   7.2500        S         n\n",
       "1         1  Class1  female  38.0      1      0  71.2833        C         C\n",
       "2         1  Class3  female  26.0      0      0   7.9250        S         n\n",
       "3         1  Class1  female  35.0      1      0  53.1000        S         C\n",
       "4         0  Class3    male  35.0      0      0   8.0500        S         n\n",
       "5         0  Class3    male  30.0      0      0   8.4583        Q         n\n",
       "6         0  Class1    male  54.0      0      0  51.8625        S         E\n",
       "7         0  Class3    male   2.0      3      1  21.0750        S         n\n",
       "8         1  Class3  female  27.0      0      2  11.1333        S         n\n",
       "9         1  Class2  female  14.0      1      0  30.0708        C         n"
      ]
     },
     "metadata": {},
     "execution_count": 369
    }
   ],
   "metadata": {}
  },
  {
   "cell_type": "code",
   "execution_count": 370,
   "source": [
    "train.dtypes"
   ],
   "outputs": [
    {
     "output_type": "execute_result",
     "data": {
      "text/plain": [
       "Survived        int64\n",
       "Pclass       category\n",
       "Sex          category\n",
       "Age           float64\n",
       "SibSp           int64\n",
       "Parch           int64\n",
       "Fare          float64\n",
       "Embarked     category\n",
       "Cabin_cat    category\n",
       "dtype: object"
      ]
     },
     "metadata": {},
     "execution_count": 370
    }
   ],
   "metadata": {}
  },
  {
   "cell_type": "markdown",
   "source": [
    "It is important to note that the data preparation is a continuous process. We may need to re-involve some dropped columns later if we differentiate their relevance or we can drop more if we recognize their irrelevance. Now, let's pick this form of the dataset and start investigating the interrelationship of survival with existing paramters (columns)."
   ],
   "metadata": {}
  },
  {
   "cell_type": "markdown",
   "source": [
    "# STEP 4: FUNDEMANTAL ANALYSIS"
   ],
   "metadata": {}
  },
  {
   "cell_type": "markdown",
   "source": [
    "We have put our columns in a better form (when needed) and made some early judgement about their relevance. Now, it is time to conduct basic and reasonable analysis.\n",
    "\n",
    "\n",
    "## Role of Sex on Survival \n",
    "A useful and common Pandas function to use at this stage is groupby(). It allows us to quantify the interrelationship among two or several parameters. As an example, we kept the \"Survived\" column as 0-1, it can be used for sums and averaging:"
   ],
   "metadata": {}
  },
  {
   "cell_type": "code",
   "execution_count": 371,
   "source": [
    "survival_numbers_sex = train.groupby('Sex')['Survived'].sum()\n",
    "print(survival_numbers_sex/survival_numbers_sex.sum())"
   ],
   "outputs": [
    {
     "output_type": "stream",
     "name": "stdout",
     "text": [
      "Sex\n",
      "female    0.681287\n",
      "male      0.318713\n",
      "Name: Survived, dtype: float64\n"
     ]
    }
   ],
   "metadata": {}
  },
  {
   "cell_type": "code",
   "execution_count": 372,
   "source": [
    "survival_rate_sex = train.groupby('Sex')['Survived'].mean()\n",
    "print(survival_rate_sex)"
   ],
   "outputs": [
    {
     "output_type": "stream",
     "name": "stdout",
     "text": [
      "Sex\n",
      "female    0.742038\n",
      "male      0.188908\n",
      "Name: Survived, dtype: float64\n"
     ]
    }
   ],
   "metadata": {}
  },
  {
   "cell_type": "markdown",
   "source": [
    "~68% of the survivors were female and ~32% was male. Moreover, ~74% of the women and the 19% of the men in the ship were survived.\n",
    "\n",
    "## Role of Cabin Category on Survival \n",
    "\n",
    "\n",
    "A same procedure can be repeated for other categorical parameters Pclass and Embarked. Here, it is repeated only for the \"Cabin_cat\" column that is a derived one (see above). "
   ],
   "metadata": {}
  },
  {
   "cell_type": "code",
   "execution_count": 373,
   "source": [
    "survival_numbers_Cabin_cat = train.groupby('Cabin_cat')['Survived'].sum()\n",
    "print(survival_numbers_Cabin_cat/survival_numbers_Cabin_cat.sum())\n",
    "\n",
    "survival_rate_Cabin_cat = train.groupby('Cabin_cat')['Survived'].mean()\n",
    "print(survival_rate_Cabin_cat)"
   ],
   "outputs": [
    {
     "output_type": "stream",
     "name": "stdout",
     "text": [
      "Cabin_cat\n",
      "A    0.020468\n",
      "B    0.102339\n",
      "C    0.102339\n",
      "D    0.073099\n",
      "E    0.070175\n",
      "F    0.023392\n",
      "G    0.005848\n",
      "T    0.000000\n",
      "n    0.602339\n",
      "Name: Survived, dtype: float64\n",
      "Cabin_cat\n",
      "A    0.466667\n",
      "B    0.744681\n",
      "C    0.593220\n",
      "D    0.757576\n",
      "E    0.750000\n",
      "F    0.615385\n",
      "G    0.500000\n",
      "T    0.000000\n",
      "n    0.299854\n",
      "Name: Survived, dtype: float64\n"
     ]
    }
   ],
   "metadata": {}
  },
  {
   "cell_type": "markdown",
   "source": [
    "For the available data, the passengers registered to ship regions B, D and E were more lucky than the ones in G and T, obviously.\n",
    "\n",
    "## Role of Age on Survival \n",
    "\n",
    "\n",
    "We already had the distribution of ages of passengers above. What about the relation among survival and the age?\n"
   ],
   "metadata": {}
  },
  {
   "cell_type": "code",
   "execution_count": 374,
   "source": [
    "survival_age = train['Age'][train['Survived']==1].dropna()\n",
    "\n",
    "sns.displot(survival_age, bins=7, kde=False, height=3, aspect=3)\n",
    "plt.show()"
   ],
   "outputs": [
    {
     "output_type": "display_data",
     "data": {
      "image/png": "[encoded data removed]",
      "text/plain": [
       "<Figure size 648x216 with 1 Axes>"
      ]
     },
     "metadata": {}
    }
   ],
   "metadata": {}
  },
  {
   "cell_type": "markdown",
   "source": [
    "At first glance, this graph may be interpretted as the passengers just below and above 30 are more probable to survive. To check it, take a look at the reverse case:"
   ],
   "metadata": {}
  },
  {
   "cell_type": "code",
   "execution_count": 375,
   "source": [
    "died_age = train['Age'][train['Survived']==0].dropna()\n",
    "sns.displot(died_age, bins=7, kde=False, height=3, aspect=3)\n",
    "plt.show()"
   ],
   "outputs": [
    {
     "output_type": "display_data",
     "data": {
      "image/png": "[encoded data removed]",
      "text/plain": [
       "<Figure size 648x216 with 1 Axes>"
      ]
     },
     "metadata": {}
    }
   ],
   "metadata": {}
  },
  {
   "cell_type": "markdown",
   "source": [
    "A similar group is also most probable to die. For a better understanding, let's group ages and have a look at the percentages:"
   ],
   "metadata": {}
  },
  {
   "cell_type": "code",
   "execution_count": 376,
   "source": [
    "survival_age_data = train[['Age','Survived']].dropna()\n",
    "\n",
    "ages = pd.qcut(survival_age_data['Age'], 6)\n",
    "\n",
    "sns.barplot(x=ages, y='Survived', data=survival_age_data)\n",
    "plt.show()"
   ],
   "outputs": [
    {
     "output_type": "display_data",
     "data": {
      "image/png": "[encoded data removed]",
      "text/plain": [
       "<Figure size 432x288 with 1 Axes>"
      ]
     },
     "metadata": {}
    }
   ],
   "metadata": {}
  },
  {
   "cell_type": "markdown",
   "source": [
    "The graph shows that passengers smaller than 19 or in 30s are more prone to survive than others. \n",
    "\n",
    "## Role of Class on Survival \n"
   ],
   "metadata": {}
  },
  {
   "cell_type": "code",
   "execution_count": 377,
   "source": [
    "survival_class = train.groupby('Pclass')['Survived'].mean()\n",
    "\n",
    "print(survival_class)"
   ],
   "outputs": [
    {
     "output_type": "stream",
     "name": "stdout",
     "text": [
      "Pclass\n",
      "Class1    0.629630\n",
      "Class2    0.472826\n",
      "Class3    0.242363\n",
      "Name: Survived, dtype: float64\n"
     ]
    }
   ],
   "metadata": {}
  },
  {
   "cell_type": "markdown",
   "source": [
    "The ratios of survivors for each class imlpy that Class1 passengers had more chance to survive."
   ],
   "metadata": {}
  },
  {
   "cell_type": "markdown",
   "source": [
    "## Role of Sibling/spouse on Survival"
   ],
   "metadata": {}
  },
  {
   "cell_type": "markdown",
   "source": [
    "Another quick way to differentiate interdependency among to two columns of a dataset (if one is categorical or at least has few unique values) is using barplots:"
   ],
   "metadata": {}
  },
  {
   "cell_type": "code",
   "execution_count": 378,
   "source": [
    "sns.barplot(x=\"SibSp\", y=\"Survived\", data=train)\n",
    "plt.show()"
   ],
   "outputs": [
    {
     "output_type": "display_data",
     "data": {
      "image/png": "[encoded data removed]",
      "text/plain": [
       "<Figure size 432x288 with 1 Axes>"
      ]
     },
     "metadata": {}
    }
   ],
   "metadata": {}
  },
  {
   "cell_type": "markdown",
   "source": [
    "It is possible to claim that passengers with a single sibling/splouse are more probable to survive but it is not possible to make interpretation for others."
   ],
   "metadata": {}
  }
 ],
 "metadata": {
  "orig_nbformat": 4,
  "language_info": {
   "name": "python",
   "version": "3.8.8",
   "mimetype": "text/x-python",
   "codemirror_mode": {
    "name": "ipython",
    "version": 3
   },
   "pygments_lexer": "ipython3",
   "nbconvert_exporter": "python",
   "file_extension": ".py"
  },
  "kernelspec": {
   "name": "python3",
   "display_name": "Python 3.8.8 64-bit ('base': conda)"
  },
  "interpreter": {
   "hash": "2e30f3d2785b97befe45d578f73afc9803a7a7807f31e57927b86123e359f622"
  }
 },
 "nbformat": 4,
 "nbformat_minor": 2
}